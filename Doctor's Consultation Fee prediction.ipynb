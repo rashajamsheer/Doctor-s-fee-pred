{
 "cells": [
  {
   "cell_type": "markdown",
   "metadata": {},
   "source": [
    "# Doctor's Consultation Fee Study:"
   ]
  },
  {
   "cell_type": "markdown",
   "metadata": {},
   "source": [
    "Size of training set: 5961 records\n",
    "\n",
    "Size of test set: 1987 records\n",
    "\n",
    "\n",
    "\n",
    "FEATURES:\n",
    "\n",
    "Qualification: Qualification and degrees held by the doctor\n",
    "\n",
    "Experience: Experience of the doctor in number of years\n",
    "\n",
    "Rating: Rating given by patients\n",
    "\n",
    "Profile: Type of the doctor\n",
    "\n",
    "Miscellaneous_Info: Extra information about the doctor\n",
    "\n",
    "Fees: Fees charged by the doctor (Target Variable)\n",
    "\n",
    "Place: Area and the city where the doctor is located."
   ]
  },
  {
   "cell_type": "code",
   "execution_count": 3,
   "metadata": {},
   "outputs": [],
   "source": [
    "import pandas as pd\n",
    "import numpy as np\n",
    "import matplotlib.pyplot as plt\n",
    "import seaborn as sns\n",
    "from sklearn.preprocessing import StandardScaler\n",
    "from sklearn.metrics import r2_score,mean_squared_error\n",
    "from sklearn.ensemble import RandomForestRegressor\n",
    "from sklearn.ensemble import GradientBoostingRegressor\n",
    "from sklearn.model_selection import train_test_split,GridSearchCV\n",
    "import warnings\n",
    "warnings.filterwarnings('ignore')\n"
   ]
  },
  {
   "cell_type": "code",
   "execution_count": 4,
   "metadata": {},
   "outputs": [],
   "source": [
    "df_test=pd.read_excel(r\"C:\\Users\\USER\\AppData\\Local\\Temp\\Temp2_Doctor_fee_consultation.zip\\Final Participant Data Folder\\Final_Test.xlsx\")\n",
    "\n",
    "# testing dataset"
   ]
  },
  {
   "cell_type": "code",
   "execution_count": 5,
   "metadata": {},
   "outputs": [],
   "source": [
    "df_test\n",
    "df_test[\"source\"]= \"Test\""
   ]
  },
  {
   "cell_type": "code",
   "execution_count": 6,
   "metadata": {},
   "outputs": [],
   "source": [
    "df_train=pd.read_excel(r\"C:\\Users\\USER\\AppData\\Local\\Temp\\Temp2_Doctor_fee_consultation.zip\\Final Participant Data Folder\\Final_Train.xlsx\")\n",
    "\n",
    "#training dataset"
   ]
  },
  {
   "cell_type": "code",
   "execution_count": 7,
   "metadata": {},
   "outputs": [],
   "source": [
    "df_train\n",
    "df_train[\"source\"]= \"Train\"\n"
   ]
  },
  {
   "cell_type": "code",
   "execution_count": 8,
   "metadata": {},
   "outputs": [],
   "source": [
    "# concat the testin and trained data:\n",
    "\n",
    "df=pd.concat([df_train,df_test],ignore_index=True)"
   ]
  },
  {
   "cell_type": "code",
   "execution_count": 9,
   "metadata": {},
   "outputs": [
    {
     "data": {
      "text/html": [
       "<div>\n",
       "<style scoped>\n",
       "    .dataframe tbody tr th:only-of-type {\n",
       "        vertical-align: middle;\n",
       "    }\n",
       "\n",
       "    .dataframe tbody tr th {\n",
       "        vertical-align: top;\n",
       "    }\n",
       "\n",
       "    .dataframe thead th {\n",
       "        text-align: right;\n",
       "    }\n",
       "</style>\n",
       "<table border=\"1\" class=\"dataframe\">\n",
       "  <thead>\n",
       "    <tr style=\"text-align: right;\">\n",
       "      <th></th>\n",
       "      <th>Qualification</th>\n",
       "      <th>Experience</th>\n",
       "      <th>Rating</th>\n",
       "      <th>Place</th>\n",
       "      <th>Profile</th>\n",
       "      <th>Miscellaneous_Info</th>\n",
       "      <th>Fees</th>\n",
       "      <th>source</th>\n",
       "    </tr>\n",
       "  </thead>\n",
       "  <tbody>\n",
       "    <tr>\n",
       "      <th>0</th>\n",
       "      <td>BHMS, MD - Homeopathy</td>\n",
       "      <td>24 years experience</td>\n",
       "      <td>100%</td>\n",
       "      <td>Kakkanad, Ernakulam</td>\n",
       "      <td>Homeopath</td>\n",
       "      <td>100% 16 Feedback Kakkanad, Ernakulam</td>\n",
       "      <td>100.0</td>\n",
       "      <td>Train</td>\n",
       "    </tr>\n",
       "    <tr>\n",
       "      <th>1</th>\n",
       "      <td>BAMS, MD - Ayurveda Medicine</td>\n",
       "      <td>12 years experience</td>\n",
       "      <td>98%</td>\n",
       "      <td>Whitefield, Bangalore</td>\n",
       "      <td>Ayurveda</td>\n",
       "      <td>98% 76 Feedback Whitefield, Bangalore</td>\n",
       "      <td>350.0</td>\n",
       "      <td>Train</td>\n",
       "    </tr>\n",
       "    <tr>\n",
       "      <th>2</th>\n",
       "      <td>MBBS, MS - Otorhinolaryngology</td>\n",
       "      <td>9 years experience</td>\n",
       "      <td>NaN</td>\n",
       "      <td>Mathikere - BEL, Bangalore</td>\n",
       "      <td>ENT Specialist</td>\n",
       "      <td>NaN</td>\n",
       "      <td>300.0</td>\n",
       "      <td>Train</td>\n",
       "    </tr>\n",
       "    <tr>\n",
       "      <th>3</th>\n",
       "      <td>BSc - Zoology, BAMS</td>\n",
       "      <td>12 years experience</td>\n",
       "      <td>NaN</td>\n",
       "      <td>Bannerghatta Road, Bangalore</td>\n",
       "      <td>Ayurveda</td>\n",
       "      <td>Bannerghatta Road, Bangalore ₹250 Available on...</td>\n",
       "      <td>250.0</td>\n",
       "      <td>Train</td>\n",
       "    </tr>\n",
       "    <tr>\n",
       "      <th>4</th>\n",
       "      <td>BAMS</td>\n",
       "      <td>20 years experience</td>\n",
       "      <td>100%</td>\n",
       "      <td>Keelkattalai, Chennai</td>\n",
       "      <td>Ayurveda</td>\n",
       "      <td>100% 4 Feedback Keelkattalai, Chennai</td>\n",
       "      <td>250.0</td>\n",
       "      <td>Train</td>\n",
       "    </tr>\n",
       "    <tr>\n",
       "      <th>...</th>\n",
       "      <td>...</td>\n",
       "      <td>...</td>\n",
       "      <td>...</td>\n",
       "      <td>...</td>\n",
       "      <td>...</td>\n",
       "      <td>...</td>\n",
       "      <td>...</td>\n",
       "      <td>...</td>\n",
       "    </tr>\n",
       "    <tr>\n",
       "      <th>7943</th>\n",
       "      <td>BAMS, Doctor of Medicine</td>\n",
       "      <td>10 years experience</td>\n",
       "      <td>NaN</td>\n",
       "      <td>Basavanagudi, Bangalore</td>\n",
       "      <td>Ayurveda</td>\n",
       "      <td>NaN</td>\n",
       "      <td>NaN</td>\n",
       "      <td>Test</td>\n",
       "    </tr>\n",
       "    <tr>\n",
       "      <th>7944</th>\n",
       "      <td>MD - Dermatology , Venereology &amp; Leprosy, MBBS</td>\n",
       "      <td>4 years experience</td>\n",
       "      <td>NaN</td>\n",
       "      <td>Choolai, Chennai</td>\n",
       "      <td>Dermatologists</td>\n",
       "      <td>NaN</td>\n",
       "      <td>NaN</td>\n",
       "      <td>Test</td>\n",
       "    </tr>\n",
       "    <tr>\n",
       "      <th>7945</th>\n",
       "      <td>MBBS, MD / MS - Obstetrics &amp; Gynaecology</td>\n",
       "      <td>9 years experience</td>\n",
       "      <td>NaN</td>\n",
       "      <td>Porur, Chennai</td>\n",
       "      <td>General Medicine</td>\n",
       "      <td>NaN</td>\n",
       "      <td>NaN</td>\n",
       "      <td>Test</td>\n",
       "    </tr>\n",
       "    <tr>\n",
       "      <th>7946</th>\n",
       "      <td>BDS</td>\n",
       "      <td>12 years experience</td>\n",
       "      <td>98%</td>\n",
       "      <td>Arekere, Bangalore</td>\n",
       "      <td>Dentist</td>\n",
       "      <td>RCT - Root Canal Treatment Root Canal Treatmen...</td>\n",
       "      <td>NaN</td>\n",
       "      <td>Test</td>\n",
       "    </tr>\n",
       "    <tr>\n",
       "      <th>7947</th>\n",
       "      <td>MBBS, MD - Dermatology , Venereology &amp; Leprosy</td>\n",
       "      <td>8 years experience</td>\n",
       "      <td>NaN</td>\n",
       "      <td>Pallikaranai, Chennai</td>\n",
       "      <td>Dermatologists</td>\n",
       "      <td>1 Feedback Pallikaranai, Chennai ₹500</td>\n",
       "      <td>NaN</td>\n",
       "      <td>Test</td>\n",
       "    </tr>\n",
       "  </tbody>\n",
       "</table>\n",
       "<p>7948 rows × 8 columns</p>\n",
       "</div>"
      ],
      "text/plain": [
       "                                       Qualification           Experience  \\\n",
       "0                              BHMS, MD - Homeopathy  24 years experience   \n",
       "1                       BAMS, MD - Ayurveda Medicine  12 years experience   \n",
       "2                     MBBS, MS - Otorhinolaryngology   9 years experience   \n",
       "3                                BSc - Zoology, BAMS  12 years experience   \n",
       "4                                               BAMS  20 years experience   \n",
       "...                                              ...                  ...   \n",
       "7943                        BAMS, Doctor of Medicine  10 years experience   \n",
       "7944  MD - Dermatology , Venereology & Leprosy, MBBS   4 years experience   \n",
       "7945        MBBS, MD / MS - Obstetrics & Gynaecology   9 years experience   \n",
       "7946                                             BDS  12 years experience   \n",
       "7947  MBBS, MD - Dermatology , Venereology & Leprosy   8 years experience   \n",
       "\n",
       "     Rating                         Place           Profile  \\\n",
       "0      100%           Kakkanad, Ernakulam         Homeopath   \n",
       "1       98%         Whitefield, Bangalore          Ayurveda   \n",
       "2       NaN    Mathikere - BEL, Bangalore    ENT Specialist   \n",
       "3       NaN  Bannerghatta Road, Bangalore          Ayurveda   \n",
       "4      100%         Keelkattalai, Chennai          Ayurveda   \n",
       "...     ...                           ...               ...   \n",
       "7943    NaN       Basavanagudi, Bangalore          Ayurveda   \n",
       "7944    NaN              Choolai, Chennai    Dermatologists   \n",
       "7945    NaN                Porur, Chennai  General Medicine   \n",
       "7946    98%            Arekere, Bangalore           Dentist   \n",
       "7947    NaN         Pallikaranai, Chennai    Dermatologists   \n",
       "\n",
       "                                     Miscellaneous_Info   Fees source  \n",
       "0                  100% 16 Feedback Kakkanad, Ernakulam  100.0  Train  \n",
       "1                 98% 76 Feedback Whitefield, Bangalore  350.0  Train  \n",
       "2                                                   NaN  300.0  Train  \n",
       "3     Bannerghatta Road, Bangalore ₹250 Available on...  250.0  Train  \n",
       "4                 100% 4 Feedback Keelkattalai, Chennai  250.0  Train  \n",
       "...                                                 ...    ...    ...  \n",
       "7943                                                NaN    NaN   Test  \n",
       "7944                                                NaN    NaN   Test  \n",
       "7945                                                NaN    NaN   Test  \n",
       "7946  RCT - Root Canal Treatment Root Canal Treatmen...    NaN   Test  \n",
       "7947              1 Feedback Pallikaranai, Chennai ₹500    NaN   Test  \n",
       "\n",
       "[7948 rows x 8 columns]"
      ]
     },
     "execution_count": 9,
     "metadata": {},
     "output_type": "execute_result"
    }
   ],
   "source": [
    "df"
   ]
  },
  {
   "cell_type": "markdown",
   "metadata": {},
   "source": [
    "so now we have 7948 rows and 8 columns. I create one new column. In that column train and test rows are mentioned"
   ]
  },
  {
   "cell_type": "code",
   "execution_count": 10,
   "metadata": {},
   "outputs": [
    {
     "data": {
      "text/plain": [
       "Qualification            0\n",
       "Experience               0\n",
       "Rating                4392\n",
       "Place                   31\n",
       "Profile                  0\n",
       "Miscellaneous_Info    3454\n",
       "Fees                  1987\n",
       "source                   0\n",
       "dtype: int64"
      ]
     },
     "execution_count": 10,
     "metadata": {},
     "output_type": "execute_result"
    }
   ],
   "source": [
    "df.isnull().sum()"
   ]
  },
  {
   "cell_type": "markdown",
   "metadata": {},
   "source": [
    "Here we can see that nan value present in the four columns."
   ]
  },
  {
   "cell_type": "code",
   "execution_count": 11,
   "metadata": {},
   "outputs": [
    {
     "data": {
      "text/plain": [
       "Qualification          object\n",
       "Experience             object\n",
       "Rating                 object\n",
       "Place                  object\n",
       "Profile                object\n",
       "Miscellaneous_Info     object\n",
       "Fees                  float64\n",
       "source                 object\n",
       "dtype: object"
      ]
     },
     "execution_count": 11,
     "metadata": {},
     "output_type": "execute_result"
    }
   ],
   "source": [
    "df.dtypes"
   ]
  },
  {
   "cell_type": "markdown",
   "metadata": {},
   "source": [
    "Most of the columns are object type. so need to convert"
   ]
  },
  {
   "cell_type": "code",
   "execution_count": 12,
   "metadata": {},
   "outputs": [
    {
     "data": {
      "text/plain": [
       "Qualification         1801\n",
       "Experience              64\n",
       "Rating                  53\n",
       "Place                  949\n",
       "Profile                  6\n",
       "Miscellaneous_Info    3981\n",
       "Fees                    41\n",
       "source                   2\n",
       "dtype: int64"
      ]
     },
     "execution_count": 12,
     "metadata": {},
     "output_type": "execute_result"
    }
   ],
   "source": [
    "# lets check unique value\n",
    "df.apply(lambda x: len(x.unique()))"
   ]
  },
  {
   "cell_type": "markdown",
   "metadata": {},
   "source": [
    "most of the unique value present in profile column"
   ]
  },
  {
   "cell_type": "code",
   "execution_count": 13,
   "metadata": {},
   "outputs": [],
   "source": [
    "df[\"Experience\"]=df[\"Experience\"].str.strip(\"years experience\")"
   ]
  },
  {
   "cell_type": "code",
   "execution_count": 14,
   "metadata": {},
   "outputs": [],
   "source": [
    "df[\"Experience\"]=df[\"Experience\"].astype(int)"
   ]
  },
  {
   "cell_type": "markdown",
   "metadata": {},
   "source": [
    "Experience column we drop years experience using strip for changing object type of data. "
   ]
  },
  {
   "cell_type": "code",
   "execution_count": 15,
   "metadata": {},
   "outputs": [
    {
     "data": {
      "text/plain": [
       "Qualification          object\n",
       "Experience              int32\n",
       "Rating                 object\n",
       "Place                  object\n",
       "Profile                object\n",
       "Miscellaneous_Info     object\n",
       "Fees                  float64\n",
       "source                 object\n",
       "dtype: object"
      ]
     },
     "execution_count": 15,
     "metadata": {},
     "output_type": "execute_result"
    }
   ],
   "source": [
    "df.dtypes"
   ]
  },
  {
   "cell_type": "markdown",
   "metadata": {},
   "source": [
    "experence column change to integer.Lets try to change other column"
   ]
  },
  {
   "cell_type": "markdown",
   "metadata": {},
   "source": [
    "missing value:"
   ]
  },
  {
   "cell_type": "code",
   "execution_count": 16,
   "metadata": {},
   "outputs": [],
   "source": [
    "df.drop('Miscellaneous_Info',axis=1,inplace=True)"
   ]
  },
  {
   "cell_type": "code",
   "execution_count": 17,
   "metadata": {},
   "outputs": [],
   "source": [
    "def changequali(x):\n",
    "    a=x.split(' ')\n",
    "    b=x.split(',')\n",
    "    if ',' not in x:\n",
    "        return a[0]\n",
    "    else:\n",
    "        return b[0]"
   ]
  },
  {
   "cell_type": "code",
   "execution_count": 18,
   "metadata": {},
   "outputs": [],
   "source": [
    "def removebar(x):\n",
    "    c=x.split('-')\n",
    "    if '-' in x:\n",
    "        return c[0]\n",
    "    else:\n",
    "        return x\n",
    "    "
   ]
  },
  {
   "cell_type": "code",
   "execution_count": 19,
   "metadata": {},
   "outputs": [],
   "source": [
    "df['Qualification']=df['Qualification'].apply(changequali)"
   ]
  },
  {
   "cell_type": "code",
   "execution_count": 20,
   "metadata": {},
   "outputs": [],
   "source": [
    "df['Qualification']=df['Qualification'].apply(removebar)"
   ]
  },
  {
   "cell_type": "code",
   "execution_count": 21,
   "metadata": {
    "scrolled": false
   },
   "outputs": [
    {
     "data": {
      "text/plain": [
       "MBBS                                                                   3313\n",
       "BDS                                                                    1579\n",
       "BAMS                                                                    939\n",
       "BHMS                                                                    938\n",
       "MD                                                                      338\n",
       "MDS                                                                     169\n",
       "MS                                                                      120\n",
       "MD                                                                       81\n",
       "MDS                                                                      59\n",
       "DNB                                                                      50\n",
       "DDVL                                                                     33\n",
       "Get                                                                      30\n",
       "MS                                                                       26\n",
       "DHMS                                                                     25\n",
       "DHMS (Diploma in Homeopathic Medicine and Surgery)                       22\n",
       "Diploma in Otorhinolaryngology (DLO)                                     20\n",
       "LCEH                                                                     19\n",
       "B.Sc                                                                     15\n",
       "PhD                                                                       9\n",
       "DNB                                                                       8\n",
       "BSAM                                                                      8\n",
       "BSc                                                                       6\n",
       "DVD                                                                       6\n",
       "DDV                                                                       5\n",
       "DM                                                                        5\n",
       "MRCP (UK)                                                                 4\n",
       "Diploma                                                                   4\n",
       "Diploma in Dermatology                                                    3\n",
       "G.A.M.S                                                                   3\n",
       "BSc                                                                       3\n",
       "MRCS (UK)                                                                 3\n",
       "Fellowship in Aesthetic Medicine                                          3\n",
       "FRCS                                                                      2\n",
       "Diploma in Child Health (DCH)                                             2\n",
       "FCPS                                                                      2\n",
       "Certification in Aesthetic Dentistry                                      2\n",
       "Fellowship in Head & Neck Oncology Surgery                                2\n",
       "Fellowship in Oral implantlogy                                            2\n",
       "GCEH                                                                      2\n",
       "BEMS                                                                      2\n",
       "Doctor                                                                    2\n",
       "Certificate in Dental Implants                                            2\n",
       "FRCP                                                                      2\n",
       "MPH                                                                       2\n",
       "MRCPS                                                                     2\n",
       "MRCGP                                                                     2\n",
       "Post Graduate Diploma in Periodontics and Implantology                    1\n",
       "M.D. (Ayu.)                                                               1\n",
       "DPM (Psychiatry)                                                          1\n",
       "DEHM                                                                      1\n",
       "FFDRCSI                                                                   1\n",
       "Post Graduate Diploma in Dermotology (PGDD)                               1\n",
       "PGD ND                                                                    1\n",
       "MBA                                                                       1\n",
       "DGO                                                                       1\n",
       "Member of the Royal College of Physicians                                 1\n",
       "Diploma in Diet and Nutrition                                             1\n",
       "Post Graduate Diploma in Diabetology (PGDD)                               1\n",
       "Diplomate of National Board Exam                                          1\n",
       "FAGE                                                                      1\n",
       "CGO                                                                       1\n",
       "Training in Facial Aesthetics                                             1\n",
       "Cochlear Implant Surgery                                                  1\n",
       "Diploma in Family Medicine (DFM)                                          1\n",
       "MRCPCH (UK)                                                               1\n",
       "M.S. (Ayurved) Stri Roga & Prasuti Tantra                                 1\n",
       "Fellowship and Diplomate in Implantology from ICOI (USA)                  1\n",
       "Certification of Aesthetic Dentistry & Periodontics                       1\n",
       "M.Ch                                                                      1\n",
       "PDCC                                                                      1\n",
       "Diploma in Naturopathy & Yogic Science (DNYT)                             1\n",
       "Fellowship In Clinical Cosmetology                                        1\n",
       "BUMS                                                                      1\n",
       "Masters Diploma in Acupressure                                            1\n",
       "Post Graduate Certificate in Endodontics (PGCE)                           1\n",
       "Fellowship in Diabetology                                                 1\n",
       "POST GRADUATE IN HOMOEOPATHY                                              1\n",
       "Post MD SR AIIMS                                                          1\n",
       "FPFA                                                                      1\n",
       "39                                                                        1\n",
       "Doctorate of Medicine in Electro Homoeopathy(MDEH)                        1\n",
       "Certified In Panchkarma                                                   1\n",
       "Post Graduate Diploma in Healthcare Management(PGDHM)                     1\n",
       "Graduate Diploma in Family Medicine                                       1\n",
       "D.H.M                                                                     1\n",
       "PG Diploma in Child Health                                                1\n",
       "MSc                                                                       1\n",
       "Diploma in Aesthetic Medicine                                             1\n",
       "Ayurvedic panchkarma                                                      1\n",
       "Diploma in Trichology                                                     1\n",
       "Fellowship In Laryngology Bronchoesophagology                             1\n",
       "BPTh/BPT                                                                  1\n",
       "Certification Course In Diabetes                                          1\n",
       "M.Sc                                                                      1\n",
       "M.D.                                                                      1\n",
       "Certificate of Oral Implantology                                          1\n",
       "Post Graduate Diploma in Diabetic Education                               1\n",
       "DNHE                                                                      1\n",
       "M. D. Hom. (Practice of Medicine)                                         1\n",
       "Advanced Certificate Course in Aesthetic Dentistry                        1\n",
       "FRCS                                                                      1\n",
       "FRGUHS                                                                    1\n",
       "BIMS                                                                      1\n",
       "FWFO                                                                      1\n",
       "FAMS                                                                      1\n",
       "Diploma in Hospital Administration                                        1\n",
       "Post Doctoral Fellowship in Diabetology                                   1\n",
       "Diploma in Medical Trichology                                             1\n",
       "FNB                                                                       1\n",
       "Post Graduate Diploma in Diabetology (PGDD)(Madras Medical College)       1\n",
       "FICD                                                                      1\n",
       "MD AYURVED AND YOG                                                        1\n",
       "DMS                                                                       1\n",
       "DO                                                                        1\n",
       "B.Ac                                                                      1\n",
       "Diploma in ENT                                                            1\n",
       "MA                                                                        1\n",
       "Diploma in Cardiology                                                     1\n",
       "Diploma in Skin & Vinereal Disease                                        1\n",
       "MSc                                                                       1\n",
       "Name: Qualification, dtype: int64"
      ]
     },
     "execution_count": 21,
     "metadata": {},
     "output_type": "execute_result"
    }
   ],
   "source": [
    "pd.set_option('display.max_rows',None)\n",
    "df[\"Qualification\"].value_counts()"
   ]
  },
  {
   "cell_type": "markdown",
   "metadata": {},
   "source": [
    "for the simplificstion we can categories the qualification into multiple"
   ]
  },
  {
   "cell_type": "code",
   "execution_count": 22,
   "metadata": {},
   "outputs": [],
   "source": [
    "def multi(x):\n",
    "    a=x.strip('.')\n",
    "    b=a.lower()\n",
    "    mylist=['bsc','diploma','certifi','doctor']\n",
    "    if mylist[0] in b:\n",
    "        return 'BSC'\n",
    "    elif mylist[1] in b:\n",
    "        return 'Diploma'\n",
    "    elif mylist[2] in b:\n",
    "        return 'Certification'\n",
    "    elif mylist[3] in b:\n",
    "        return 'PhD'\n",
    "    else:\n",
    "        return x\n",
    "    "
   ]
  },
  {
   "cell_type": "code",
   "execution_count": 23,
   "metadata": {},
   "outputs": [],
   "source": [
    "df[\"Qualification\"]=df[\"Qualification\"].apply(multi)"
   ]
  },
  {
   "cell_type": "code",
   "execution_count": 24,
   "metadata": {},
   "outputs": [
    {
     "data": {
      "text/plain": [
       "MBBS                                             3313\n",
       "BDS                                              1579\n",
       "BAMS                                              939\n",
       "BHMS                                              938\n",
       "MD                                                338\n",
       "MDS                                               169\n",
       "MS                                                120\n",
       "MD                                                 81\n",
       "Diploma                                            72\n",
       "MDS                                                59\n",
       "DNB                                                50\n",
       "DDVL                                               33\n",
       "Get                                                30\n",
       "MS                                                 26\n",
       "DHMS                                               25\n",
       "LCEH                                               19\n",
       "B.Sc                                               15\n",
       "Certification                                      10\n",
       "PhD                                                 9\n",
       "BSC                                                 9\n",
       "BSAM                                                8\n",
       "DNB                                                 8\n",
       "DVD                                                 6\n",
       "DDV                                                 5\n",
       "DM                                                  5\n",
       "MRCP (UK)                                           4\n",
       "PhD                                                 4\n",
       "MRCS (UK)                                           3\n",
       "Fellowship in Aesthetic Medicine                    3\n",
       "G.A.M.S                                             3\n",
       "FCPS                                                2\n",
       "BEMS                                                2\n",
       "MPH                                                 2\n",
       "FRCS                                                2\n",
       "GCEH                                                2\n",
       "Fellowship in Oral implantlogy                      2\n",
       "MRCGP                                               2\n",
       "Fellowship in Head & Neck Oncology Surgery          2\n",
       "FRCP                                                2\n",
       "MRCPS                                               2\n",
       "CGO                                                 1\n",
       "FAGE                                                1\n",
       "DPM (Psychiatry)                                    1\n",
       "DGO                                                 1\n",
       "Member of the Royal College of Physicians           1\n",
       "M.D. (Ayu.)                                         1\n",
       "MBA                                                 1\n",
       "FFDRCSI                                             1\n",
       "Cochlear Implant Surgery                            1\n",
       "FPFA                                                1\n",
       "Fellowship in Diabetology                           1\n",
       "BUMS                                                1\n",
       "PDCC                                                1\n",
       "MSc                                                 1\n",
       "Training in Facial Aesthetics                       1\n",
       "FRCS                                                1\n",
       "BIMS                                                1\n",
       "B.Ac                                                1\n",
       "Fellowship In Clinical Cosmetology                  1\n",
       "POST GRADUATE IN HOMOEOPATHY                        1\n",
       "Post MD SR AIIMS                                    1\n",
       "39                                                  1\n",
       "M.S. (Ayurved) Stri Roga & Prasuti Tantra           1\n",
       "DEHM                                                1\n",
       "PGD ND                                              1\n",
       "MRCPCH (UK)                                         1\n",
       "FNB                                                 1\n",
       "FICD                                                1\n",
       "DMS                                                 1\n",
       "DO                                                  1\n",
       "FWFO                                                1\n",
       "FAMS                                                1\n",
       "D.H.M                                               1\n",
       "Fellowship In Laryngology Bronchoesophagology       1\n",
       "DNHE                                                1\n",
       "M. D. Hom. (Practice of Medicine)                   1\n",
       "M.D.                                                1\n",
       "M.Sc                                                1\n",
       "BPTh/BPT                                            1\n",
       "Ayurvedic panchkarma                                1\n",
       "M.Ch                                                1\n",
       "FRGUHS                                              1\n",
       "MA                                                  1\n",
       "MD AYURVED AND YOG                                  1\n",
       "MSc                                                 1\n",
       "Name: Qualification, dtype: int64"
      ]
     },
     "execution_count": 24,
     "metadata": {},
     "output_type": "execute_result"
    }
   ],
   "source": [
    "df[\"Qualification\"].value_counts()"
   ]
  },
  {
   "cell_type": "code",
   "execution_count": 25,
   "metadata": {},
   "outputs": [
    {
     "data": {
      "text/plain": [
       "950.0"
      ]
     },
     "execution_count": 25,
     "metadata": {},
     "output_type": "execute_result"
    }
   ],
   "source": [
    "df[\"Fees\"].max()"
   ]
  },
  {
   "cell_type": "markdown",
   "metadata": {},
   "source": [
    "950 is the highest fee charged by dorctor"
   ]
  },
  {
   "cell_type": "code",
   "execution_count": 26,
   "metadata": {},
   "outputs": [
    {
     "data": {
      "text/html": [
       "<div>\n",
       "<style scoped>\n",
       "    .dataframe tbody tr th:only-of-type {\n",
       "        vertical-align: middle;\n",
       "    }\n",
       "\n",
       "    .dataframe tbody tr th {\n",
       "        vertical-align: top;\n",
       "    }\n",
       "\n",
       "    .dataframe thead th {\n",
       "        text-align: right;\n",
       "    }\n",
       "</style>\n",
       "<table border=\"1\" class=\"dataframe\">\n",
       "  <thead>\n",
       "    <tr style=\"text-align: right;\">\n",
       "      <th></th>\n",
       "      <th>Qualification</th>\n",
       "      <th>Experience</th>\n",
       "      <th>Rating</th>\n",
       "      <th>Place</th>\n",
       "      <th>Profile</th>\n",
       "      <th>Fees</th>\n",
       "      <th>source</th>\n",
       "    </tr>\n",
       "  </thead>\n",
       "  <tbody>\n",
       "    <tr>\n",
       "      <th>293</th>\n",
       "      <td>MBBS</td>\n",
       "      <td>29</td>\n",
       "      <td>100%</td>\n",
       "      <td>Adyar, Chennai</td>\n",
       "      <td>General Medicine</td>\n",
       "      <td>950.0</td>\n",
       "      <td>Train</td>\n",
       "    </tr>\n",
       "  </tbody>\n",
       "</table>\n",
       "</div>"
      ],
      "text/plain": [
       "    Qualification  Experience Rating           Place           Profile   Fees  \\\n",
       "293          MBBS          29   100%  Adyar, Chennai  General Medicine  950.0   \n",
       "\n",
       "    source  \n",
       "293  Train  "
      ]
     },
     "execution_count": 26,
     "metadata": {},
     "output_type": "execute_result"
    }
   ],
   "source": [
    "df[df[\"Fees\"]==950]"
   ]
  },
  {
   "cell_type": "markdown",
   "metadata": {},
   "source": [
    "100% rating was given to the doctor and has 29 yrs experience"
   ]
  },
  {
   "cell_type": "code",
   "execution_count": 27,
   "metadata": {},
   "outputs": [
    {
     "data": {
      "text/html": [
       "<div>\n",
       "<style scoped>\n",
       "    .dataframe tbody tr th:only-of-type {\n",
       "        vertical-align: middle;\n",
       "    }\n",
       "\n",
       "    .dataframe tbody tr th {\n",
       "        vertical-align: top;\n",
       "    }\n",
       "\n",
       "    .dataframe thead th {\n",
       "        text-align: right;\n",
       "    }\n",
       "</style>\n",
       "<table border=\"1\" class=\"dataframe\">\n",
       "  <thead>\n",
       "    <tr style=\"text-align: right;\">\n",
       "      <th></th>\n",
       "      <th>Qualification</th>\n",
       "      <th>Experience</th>\n",
       "      <th>Rating</th>\n",
       "      <th>Place</th>\n",
       "      <th>Profile</th>\n",
       "      <th>Fees</th>\n",
       "      <th>source</th>\n",
       "    </tr>\n",
       "  </thead>\n",
       "  <tbody>\n",
       "    <tr>\n",
       "      <th>275</th>\n",
       "      <td>MD</td>\n",
       "      <td>6</td>\n",
       "      <td>NaN</td>\n",
       "      <td>Chanakyapuri, Delhi</td>\n",
       "      <td>Dermatologists</td>\n",
       "      <td>900.0</td>\n",
       "      <td>Train</td>\n",
       "    </tr>\n",
       "    <tr>\n",
       "      <th>293</th>\n",
       "      <td>MBBS</td>\n",
       "      <td>29</td>\n",
       "      <td>100%</td>\n",
       "      <td>Adyar, Chennai</td>\n",
       "      <td>General Medicine</td>\n",
       "      <td>950.0</td>\n",
       "      <td>Train</td>\n",
       "    </tr>\n",
       "    <tr>\n",
       "      <th>987</th>\n",
       "      <td>MBBS</td>\n",
       "      <td>25</td>\n",
       "      <td>93%</td>\n",
       "      <td>Shalimar Bagh, Delhi</td>\n",
       "      <td>ENT Specialist</td>\n",
       "      <td>900.0</td>\n",
       "      <td>Train</td>\n",
       "    </tr>\n",
       "    <tr>\n",
       "      <th>1314</th>\n",
       "      <td>MBBS</td>\n",
       "      <td>33</td>\n",
       "      <td>100%</td>\n",
       "      <td>Mira-Bhayandar Road, Mumbai</td>\n",
       "      <td>General Medicine</td>\n",
       "      <td>900.0</td>\n",
       "      <td>Train</td>\n",
       "    </tr>\n",
       "    <tr>\n",
       "      <th>1631</th>\n",
       "      <td>MBBS</td>\n",
       "      <td>6</td>\n",
       "      <td>NaN</td>\n",
       "      <td>Kandivali West, Mumbai</td>\n",
       "      <td>Dermatologists</td>\n",
       "      <td>900.0</td>\n",
       "      <td>Train</td>\n",
       "    </tr>\n",
       "    <tr>\n",
       "      <th>2165</th>\n",
       "      <td>MBBS</td>\n",
       "      <td>8</td>\n",
       "      <td>100%</td>\n",
       "      <td>Kandivali West, Mumbai</td>\n",
       "      <td>General Medicine</td>\n",
       "      <td>900.0</td>\n",
       "      <td>Train</td>\n",
       "    </tr>\n",
       "    <tr>\n",
       "      <th>2252</th>\n",
       "      <td>MBBS</td>\n",
       "      <td>46</td>\n",
       "      <td>95%</td>\n",
       "      <td>Richmond Town, Bangalore</td>\n",
       "      <td>ENT Specialist</td>\n",
       "      <td>900.0</td>\n",
       "      <td>Train</td>\n",
       "    </tr>\n",
       "    <tr>\n",
       "      <th>2393</th>\n",
       "      <td>BHMS</td>\n",
       "      <td>19</td>\n",
       "      <td>100%</td>\n",
       "      <td>Mulund West, Mumbai</td>\n",
       "      <td>Homeopath</td>\n",
       "      <td>900.0</td>\n",
       "      <td>Train</td>\n",
       "    </tr>\n",
       "    <tr>\n",
       "      <th>2428</th>\n",
       "      <td>MA</td>\n",
       "      <td>6</td>\n",
       "      <td>NaN</td>\n",
       "      <td>Vasant Kunj, Delhi</td>\n",
       "      <td>Homeopath</td>\n",
       "      <td>900.0</td>\n",
       "      <td>Train</td>\n",
       "    </tr>\n",
       "    <tr>\n",
       "      <th>2522</th>\n",
       "      <td>BHMS</td>\n",
       "      <td>27</td>\n",
       "      <td>98%</td>\n",
       "      <td>Mulund West, Mumbai</td>\n",
       "      <td>Homeopath</td>\n",
       "      <td>900.0</td>\n",
       "      <td>Train</td>\n",
       "    </tr>\n",
       "    <tr>\n",
       "      <th>2623</th>\n",
       "      <td>MBBS</td>\n",
       "      <td>31</td>\n",
       "      <td>NaN</td>\n",
       "      <td>East Of Kailash, Delhi</td>\n",
       "      <td>General Medicine</td>\n",
       "      <td>900.0</td>\n",
       "      <td>Train</td>\n",
       "    </tr>\n",
       "    <tr>\n",
       "      <th>2708</th>\n",
       "      <td>MBBS</td>\n",
       "      <td>18</td>\n",
       "      <td>97%</td>\n",
       "      <td>Andheri West, Mumbai</td>\n",
       "      <td>Dermatologists</td>\n",
       "      <td>900.0</td>\n",
       "      <td>Train</td>\n",
       "    </tr>\n",
       "    <tr>\n",
       "      <th>3365</th>\n",
       "      <td>MD</td>\n",
       "      <td>18</td>\n",
       "      <td>95%</td>\n",
       "      <td>Dadar West, Mumbai</td>\n",
       "      <td>Homeopath</td>\n",
       "      <td>920.0</td>\n",
       "      <td>Train</td>\n",
       "    </tr>\n",
       "    <tr>\n",
       "      <th>4040</th>\n",
       "      <td>MBBS</td>\n",
       "      <td>31</td>\n",
       "      <td>NaN</td>\n",
       "      <td>East Of Kailash, Delhi</td>\n",
       "      <td>General Medicine</td>\n",
       "      <td>900.0</td>\n",
       "      <td>Train</td>\n",
       "    </tr>\n",
       "    <tr>\n",
       "      <th>4405</th>\n",
       "      <td>MBBS</td>\n",
       "      <td>16</td>\n",
       "      <td>NaN</td>\n",
       "      <td>Chanakyapuri, Delhi</td>\n",
       "      <td>General Medicine</td>\n",
       "      <td>850.0</td>\n",
       "      <td>Train</td>\n",
       "    </tr>\n",
       "    <tr>\n",
       "      <th>4581</th>\n",
       "      <td>BAMS</td>\n",
       "      <td>39</td>\n",
       "      <td>NaN</td>\n",
       "      <td>Karol Bagh, Delhi</td>\n",
       "      <td>Ayurveda</td>\n",
       "      <td>900.0</td>\n",
       "      <td>Train</td>\n",
       "    </tr>\n",
       "    <tr>\n",
       "      <th>4730</th>\n",
       "      <td>DNB</td>\n",
       "      <td>23</td>\n",
       "      <td>NaN</td>\n",
       "      <td>Powai, Mumbai</td>\n",
       "      <td>Dermatologists</td>\n",
       "      <td>900.0</td>\n",
       "      <td>Train</td>\n",
       "    </tr>\n",
       "    <tr>\n",
       "      <th>4835</th>\n",
       "      <td>MBBS</td>\n",
       "      <td>15</td>\n",
       "      <td>97%</td>\n",
       "      <td>Vasant Kunj, Delhi</td>\n",
       "      <td>Dermatologists</td>\n",
       "      <td>900.0</td>\n",
       "      <td>Train</td>\n",
       "    </tr>\n",
       "    <tr>\n",
       "      <th>5195</th>\n",
       "      <td>MBBS</td>\n",
       "      <td>39</td>\n",
       "      <td>NaN</td>\n",
       "      <td>Model Town, Delhi</td>\n",
       "      <td>ENT Specialist</td>\n",
       "      <td>900.0</td>\n",
       "      <td>Train</td>\n",
       "    </tr>\n",
       "    <tr>\n",
       "      <th>5250</th>\n",
       "      <td>MD</td>\n",
       "      <td>6</td>\n",
       "      <td>NaN</td>\n",
       "      <td>Saket, Delhi</td>\n",
       "      <td>General Medicine</td>\n",
       "      <td>900.0</td>\n",
       "      <td>Train</td>\n",
       "    </tr>\n",
       "    <tr>\n",
       "      <th>5311</th>\n",
       "      <td>BDS</td>\n",
       "      <td>14</td>\n",
       "      <td>100%</td>\n",
       "      <td>Panchsheel Park, Delhi</td>\n",
       "      <td>Dentist</td>\n",
       "      <td>900.0</td>\n",
       "      <td>Train</td>\n",
       "    </tr>\n",
       "  </tbody>\n",
       "</table>\n",
       "</div>"
      ],
      "text/plain": [
       "     Qualification  Experience Rating                        Place  \\\n",
       "275            MD            6    NaN          Chanakyapuri, Delhi   \n",
       "293           MBBS          29   100%               Adyar, Chennai   \n",
       "987           MBBS          25    93%         Shalimar Bagh, Delhi   \n",
       "1314          MBBS          33   100%  Mira-Bhayandar Road, Mumbai   \n",
       "1631          MBBS           6    NaN       Kandivali West, Mumbai   \n",
       "2165          MBBS           8   100%       Kandivali West, Mumbai   \n",
       "2252          MBBS          46    95%     Richmond Town, Bangalore   \n",
       "2393          BHMS          19   100%          Mulund West, Mumbai   \n",
       "2428           MA            6    NaN           Vasant Kunj, Delhi   \n",
       "2522          BHMS          27    98%          Mulund West, Mumbai   \n",
       "2623          MBBS          31    NaN       East Of Kailash, Delhi   \n",
       "2708          MBBS          18    97%         Andheri West, Mumbai   \n",
       "3365           MD           18    95%           Dadar West, Mumbai   \n",
       "4040          MBBS          31    NaN       East Of Kailash, Delhi   \n",
       "4405          MBBS          16    NaN          Chanakyapuri, Delhi   \n",
       "4581          BAMS          39    NaN            Karol Bagh, Delhi   \n",
       "4730          DNB           23    NaN                Powai, Mumbai   \n",
       "4835          MBBS          15    97%           Vasant Kunj, Delhi   \n",
       "5195          MBBS          39    NaN            Model Town, Delhi   \n",
       "5250           MD            6    NaN                 Saket, Delhi   \n",
       "5311           BDS          14   100%       Panchsheel Park, Delhi   \n",
       "\n",
       "               Profile   Fees source  \n",
       "275     Dermatologists  900.0  Train  \n",
       "293   General Medicine  950.0  Train  \n",
       "987     ENT Specialist  900.0  Train  \n",
       "1314  General Medicine  900.0  Train  \n",
       "1631    Dermatologists  900.0  Train  \n",
       "2165  General Medicine  900.0  Train  \n",
       "2252    ENT Specialist  900.0  Train  \n",
       "2393         Homeopath  900.0  Train  \n",
       "2428         Homeopath  900.0  Train  \n",
       "2522         Homeopath  900.0  Train  \n",
       "2623  General Medicine  900.0  Train  \n",
       "2708    Dermatologists  900.0  Train  \n",
       "3365         Homeopath  920.0  Train  \n",
       "4040  General Medicine  900.0  Train  \n",
       "4405  General Medicine  850.0  Train  \n",
       "4581          Ayurveda  900.0  Train  \n",
       "4730    Dermatologists  900.0  Train  \n",
       "4835    Dermatologists  900.0  Train  \n",
       "5195    ENT Specialist  900.0  Train  \n",
       "5250  General Medicine  900.0  Train  \n",
       "5311           Dentist  900.0  Train  "
      ]
     },
     "execution_count": 27,
     "metadata": {},
     "output_type": "execute_result"
    }
   ],
   "source": [
    "# Lets check how mush dr has charged above 800 fees\n",
    "df[df[\"Fees\"]>800]"
   ]
  },
  {
   "cell_type": "markdown",
   "metadata": {},
   "source": [
    "There are 22 dr has above 800"
   ]
  },
  {
   "cell_type": "code",
   "execution_count": 28,
   "metadata": {},
   "outputs": [
    {
     "data": {
      "text/plain": [
       "General Medicine    7\n",
       "Dermatologists      5\n",
       "Homeopath           4\n",
       "ENT Specialist      3\n",
       "Ayurveda            1\n",
       "Dentist             1\n",
       "Name: Profile, dtype: int64"
      ]
     },
     "execution_count": 28,
     "metadata": {},
     "output_type": "execute_result"
    }
   ],
   "source": [
    "df[df['Fees']>800]['Profile'].value_counts()"
   ]
  },
  {
   "cell_type": "markdown",
   "metadata": {},
   "source": [
    "General Medicin Dr are highest in this above 800 charged catogories."
   ]
  },
  {
   "cell_type": "code",
   "execution_count": 29,
   "metadata": {},
   "outputs": [
    {
     "data": {
      "text/plain": [
       "5.0"
      ]
     },
     "execution_count": 29,
     "metadata": {},
     "output_type": "execute_result"
    }
   ],
   "source": [
    "df[\"Fees\"].min()"
   ]
  },
  {
   "cell_type": "code",
   "execution_count": 30,
   "metadata": {},
   "outputs": [
    {
     "data": {
      "text/html": [
       "<div>\n",
       "<style scoped>\n",
       "    .dataframe tbody tr th:only-of-type {\n",
       "        vertical-align: middle;\n",
       "    }\n",
       "\n",
       "    .dataframe tbody tr th {\n",
       "        vertical-align: top;\n",
       "    }\n",
       "\n",
       "    .dataframe thead th {\n",
       "        text-align: right;\n",
       "    }\n",
       "</style>\n",
       "<table border=\"1\" class=\"dataframe\">\n",
       "  <thead>\n",
       "    <tr style=\"text-align: right;\">\n",
       "      <th></th>\n",
       "      <th>Qualification</th>\n",
       "      <th>Experience</th>\n",
       "      <th>Rating</th>\n",
       "      <th>Place</th>\n",
       "      <th>Profile</th>\n",
       "      <th>Fees</th>\n",
       "      <th>source</th>\n",
       "    </tr>\n",
       "  </thead>\n",
       "  <tbody>\n",
       "    <tr>\n",
       "      <th>1930</th>\n",
       "      <td>BDS</td>\n",
       "      <td>6</td>\n",
       "      <td>NaN</td>\n",
       "      <td>TV Medical College, Thiruvananthapuram</td>\n",
       "      <td>Dentist</td>\n",
       "      <td>5.0</td>\n",
       "      <td>Train</td>\n",
       "    </tr>\n",
       "  </tbody>\n",
       "</table>\n",
       "</div>"
      ],
      "text/plain": [
       "     Qualification  Experience Rating                                   Place  \\\n",
       "1930           BDS           6    NaN  TV Medical College, Thiruvananthapuram   \n",
       "\n",
       "      Profile  Fees source  \n",
       "1930  Dentist   5.0  Train  "
      ]
     },
     "execution_count": 30,
     "metadata": {},
     "output_type": "execute_result"
    }
   ],
   "source": [
    "df[df[\"Fees\"]==5]"
   ]
  },
  {
   "cell_type": "markdown",
   "metadata": {},
   "source": [
    "Dentist is the least fees charged in the dataset"
   ]
  },
  {
   "cell_type": "code",
   "execution_count": 31,
   "metadata": {},
   "outputs": [
    {
     "data": {
      "image/png": "[encoded data removed]",
      "text/plain": [
       "<Figure size 720x360 with 1 Axes>"
      ]
     },
     "metadata": {
      "needs_background": "light"
     },
     "output_type": "display_data"
    }
   ],
   "source": [
    "plt.figure(figsize=(10,5))\n",
    "sns.barplot(x=\"Profile\",y='Fees',data=df)\n",
    "plt.show()"
   ]
  },
  {
   "cell_type": "code",
   "execution_count": 32,
   "metadata": {},
   "outputs": [],
   "source": [
    "# make an instance for Rating which no null value raws\n",
    "rate=df[df[\"Rating\"].notnull()]"
   ]
  },
  {
   "cell_type": "code",
   "execution_count": 33,
   "metadata": {},
   "outputs": [],
   "source": [
    "def remove(x):\n",
    "    per=x.split('%')\n",
    "    return per[0]"
   ]
  },
  {
   "cell_type": "code",
   "execution_count": 34,
   "metadata": {},
   "outputs": [],
   "source": [
    "rate['Rating']=rate['Rating'].apply(remove)"
   ]
  },
  {
   "cell_type": "code",
   "execution_count": 35,
   "metadata": {},
   "outputs": [],
   "source": [
    "rate[\"Rating\"]=rate[\"Rating\"].astype(float)"
   ]
  },
  {
   "cell_type": "code",
   "execution_count": 36,
   "metadata": {},
   "outputs": [
    {
     "data": {
      "text/plain": [
       "Dentist             1838\n",
       "General Medicine    1617\n",
       "Dermatologists      1373\n",
       "Homeopath           1120\n",
       "Ayurveda            1037\n",
       "ENT Specialist       963\n",
       "Name: Profile, dtype: int64"
      ]
     },
     "execution_count": 36,
     "metadata": {},
     "output_type": "execute_result"
    }
   ],
   "source": [
    "df.Profile.value_counts()"
   ]
  },
  {
   "cell_type": "markdown",
   "metadata": {},
   "source": [
    "lets group the data from profile and rating column based on criteria. after find mean"
   ]
  },
  {
   "cell_type": "code",
   "execution_count": 37,
   "metadata": {},
   "outputs": [
    {
     "data": {
      "text/plain": [
       "Profile\n",
       "Ayurveda            96.277108\n",
       "Dentist             97.698454\n",
       "Dermatologists      93.446281\n",
       "ENT Specialist      88.973236\n",
       "General Medicine    91.944238\n",
       "Homeopath           96.524496\n",
       "Name: Rating, dtype: float64"
      ]
     },
     "execution_count": 37,
     "metadata": {},
     "output_type": "execute_result"
    }
   ],
   "source": [
    "rate.groupby(\"Profile\")[\"Rating\"].mean()"
   ]
  },
  {
   "cell_type": "markdown",
   "metadata": {},
   "source": [
    " Lets try to replace nan value in column Rating with this mean value"
   ]
  },
  {
   "cell_type": "code",
   "execution_count": 38,
   "metadata": {},
   "outputs": [],
   "source": [
    "def filter_fun(cols):\n",
    "    Rating = cols[0]\n",
    "    Profile = cols[1]\n",
    "    \n",
    "    if pd.isnull(Rating):\n",
    "        \n",
    "        if Profile == 'Ayurveda':\n",
    "            return '96%'\n",
    "        elif Profile == 'Dentist':\n",
    "            return '98%'\n",
    "        elif Profile == 'Dermatologist':\n",
    "            return '93%'\n",
    "        elif Profile == 'ENT Specialist':\n",
    "            return '89%'\n",
    "        elif Profile =='General Medicine':\n",
    "            return '92%'\n",
    "        elif Profile =='Homeopath':\n",
    "            return '97%'\n",
    "    else:\n",
    "        return Rating\n",
    "        "
   ]
  },
  {
   "cell_type": "code",
   "execution_count": 39,
   "metadata": {},
   "outputs": [],
   "source": [
    "df['Rating'] =df[['Rating','Profile']].apply(filter_fun,axis=1)"
   ]
  },
  {
   "cell_type": "code",
   "execution_count": 40,
   "metadata": {},
   "outputs": [],
   "source": [
    "df['Rating']=df[\"Rating\"].str.strip(\"%\")"
   ]
  },
  {
   "cell_type": "code",
   "execution_count": 41,
   "metadata": {},
   "outputs": [],
   "source": [
    "df['Rating']= df['Rating'].astype(float)"
   ]
  },
  {
   "cell_type": "code",
   "execution_count": 42,
   "metadata": {},
   "outputs": [],
   "source": [
    "def Placeexactly(x):\n",
    "    wans=str(x).split(' ')\n",
    "    return wans[-1]"
   ]
  },
  {
   "cell_type": "code",
   "execution_count": 43,
   "metadata": {},
   "outputs": [],
   "source": [
    "plc=df[df[\"Place\"].notnull()]"
   ]
  },
  {
   "cell_type": "code",
   "execution_count": 44,
   "metadata": {},
   "outputs": [],
   "source": [
    "plc['Place']=plc[\"Place\"].apply(Placeexactly)"
   ]
  },
  {
   "cell_type": "code",
   "execution_count": 45,
   "metadata": {},
   "outputs": [
    {
     "data": {
      "text/plain": [
       "Bangalore             1678\n",
       "Mumbai                1608\n",
       "Delhi                 1602\n",
       "Hyderabad             1284\n",
       "Chennai               1142\n",
       "Coimbatore             298\n",
       "Ernakulam              201\n",
       "Thiruvananthapuram     103\n",
       "e                        1\n",
       "Name: Place, dtype: int64"
      ]
     },
     "execution_count": 45,
     "metadata": {},
     "output_type": "execute_result"
    }
   ],
   "source": [
    "plc[\"Place\"].value_counts()"
   ]
  },
  {
   "cell_type": "markdown",
   "metadata": {},
   "source": [
    "highest number of dr located in Bangalore. so let's fill it in the nan "
   ]
  },
  {
   "cell_type": "code",
   "execution_count": 46,
   "metadata": {},
   "outputs": [],
   "source": [
    "df[\"Place\"].fillna('Basaveshwaranagar, Bangalore',inplace=True)"
   ]
  },
  {
   "cell_type": "code",
   "execution_count": 47,
   "metadata": {},
   "outputs": [],
   "source": [
    "df[\"Place\"]=df[\"Place\"].apply(Placeexactly)"
   ]
  },
  {
   "cell_type": "code",
   "execution_count": 48,
   "metadata": {},
   "outputs": [],
   "source": [
    "def remove_e(x):\n",
    "    if x=='e':\n",
    "        return 'Bangalore'\n",
    "    else:\n",
    "        return x"
   ]
  },
  {
   "cell_type": "code",
   "execution_count": 49,
   "metadata": {},
   "outputs": [],
   "source": [
    "df['Place']=df['Place'].apply(remove_e)"
   ]
  },
  {
   "cell_type": "code",
   "execution_count": 50,
   "metadata": {},
   "outputs": [
    {
     "data": {
      "text/plain": [
       "Bangalore             1710\n",
       "Mumbai                1608\n",
       "Delhi                 1602\n",
       "Hyderabad             1284\n",
       "Chennai               1142\n",
       "Coimbatore             298\n",
       "Ernakulam              201\n",
       "Thiruvananthapuram     103\n",
       "Name: Place, dtype: int64"
      ]
     },
     "execution_count": 50,
     "metadata": {},
     "output_type": "execute_result"
    }
   ],
   "source": [
    "df['Place'].value_counts()"
   ]
  },
  {
   "cell_type": "code",
   "execution_count": 51,
   "metadata": {},
   "outputs": [
    {
     "name": "stdout",
     "output_type": "stream",
     "text": [
      "<class 'pandas.core.frame.DataFrame'>\n",
      "RangeIndex: 7948 entries, 0 to 7947\n",
      "Data columns (total 7 columns):\n",
      " #   Column         Non-Null Count  Dtype  \n",
      "---  ------         --------------  -----  \n",
      " 0   Qualification  7948 non-null   object \n",
      " 1   Experience     7948 non-null   int32  \n",
      " 2   Rating         7422 non-null   float64\n",
      " 3   Place          7948 non-null   object \n",
      " 4   Profile        7948 non-null   object \n",
      " 5   Fees           5961 non-null   float64\n",
      " 6   source         7948 non-null   object \n",
      "dtypes: float64(2), int32(1), object(4)\n",
      "memory usage: 403.7+ KB\n"
     ]
    }
   ],
   "source": [
    "df.info()"
   ]
  },
  {
   "cell_type": "markdown",
   "metadata": {},
   "source": [
    "# converting categorical variable into numbers"
   ]
  },
  {
   "cell_type": "raw",
   "metadata": {},
   "source": [
    "Rating:"
   ]
  },
  {
   "cell_type": "code",
   "execution_count": 52,
   "metadata": {},
   "outputs": [
    {
     "data": {
      "text/html": [
       "<div>\n",
       "<style scoped>\n",
       "    .dataframe tbody tr th:only-of-type {\n",
       "        vertical-align: middle;\n",
       "    }\n",
       "\n",
       "    .dataframe tbody tr th {\n",
       "        vertical-align: top;\n",
       "    }\n",
       "\n",
       "    .dataframe thead th {\n",
       "        text-align: right;\n",
       "    }\n",
       "</style>\n",
       "<table border=\"1\" class=\"dataframe\">\n",
       "  <thead>\n",
       "    <tr style=\"text-align: right;\">\n",
       "      <th></th>\n",
       "      <th>Qualification</th>\n",
       "      <th>Experience</th>\n",
       "      <th>Rating</th>\n",
       "      <th>Place</th>\n",
       "      <th>Profile</th>\n",
       "      <th>Fees</th>\n",
       "      <th>source</th>\n",
       "    </tr>\n",
       "  </thead>\n",
       "  <tbody>\n",
       "    <tr>\n",
       "      <th>55</th>\n",
       "      <td>MBBS</td>\n",
       "      <td>25</td>\n",
       "      <td>36.0</td>\n",
       "      <td>Bangalore</td>\n",
       "      <td>ENT Specialist</td>\n",
       "      <td>600.0</td>\n",
       "      <td>Train</td>\n",
       "    </tr>\n",
       "    <tr>\n",
       "      <th>692</th>\n",
       "      <td>MBBS</td>\n",
       "      <td>29</td>\n",
       "      <td>33.0</td>\n",
       "      <td>Delhi</td>\n",
       "      <td>Dermatologists</td>\n",
       "      <td>500.0</td>\n",
       "      <td>Train</td>\n",
       "    </tr>\n",
       "    <tr>\n",
       "      <th>911</th>\n",
       "      <td>Diploma</td>\n",
       "      <td>31</td>\n",
       "      <td>45.0</td>\n",
       "      <td>Mumbai</td>\n",
       "      <td>Homeopath</td>\n",
       "      <td>500.0</td>\n",
       "      <td>Train</td>\n",
       "    </tr>\n",
       "    <tr>\n",
       "      <th>2585</th>\n",
       "      <td>MRCPCH (UK)</td>\n",
       "      <td>19</td>\n",
       "      <td>7.0</td>\n",
       "      <td>Hyderabad</td>\n",
       "      <td>General Medicine</td>\n",
       "      <td>100.0</td>\n",
       "      <td>Train</td>\n",
       "    </tr>\n",
       "    <tr>\n",
       "      <th>3126</th>\n",
       "      <td>MBBS</td>\n",
       "      <td>38</td>\n",
       "      <td>48.0</td>\n",
       "      <td>Delhi</td>\n",
       "      <td>ENT Specialist</td>\n",
       "      <td>800.0</td>\n",
       "      <td>Train</td>\n",
       "    </tr>\n",
       "    <tr>\n",
       "      <th>3604</th>\n",
       "      <td>MBBS</td>\n",
       "      <td>33</td>\n",
       "      <td>40.0</td>\n",
       "      <td>Chennai</td>\n",
       "      <td>General Medicine</td>\n",
       "      <td>700.0</td>\n",
       "      <td>Train</td>\n",
       "    </tr>\n",
       "    <tr>\n",
       "      <th>5028</th>\n",
       "      <td>MBBS</td>\n",
       "      <td>30</td>\n",
       "      <td>47.0</td>\n",
       "      <td>Bangalore</td>\n",
       "      <td>ENT Specialist</td>\n",
       "      <td>650.0</td>\n",
       "      <td>Train</td>\n",
       "    </tr>\n",
       "    <tr>\n",
       "      <th>5127</th>\n",
       "      <td>MBBS</td>\n",
       "      <td>19</td>\n",
       "      <td>33.0</td>\n",
       "      <td>Bangalore</td>\n",
       "      <td>ENT Specialist</td>\n",
       "      <td>650.0</td>\n",
       "      <td>Train</td>\n",
       "    </tr>\n",
       "  </tbody>\n",
       "</table>\n",
       "</div>"
      ],
      "text/plain": [
       "     Qualification  Experience  Rating      Place           Profile   Fees  \\\n",
       "55            MBBS          25    36.0  Bangalore    ENT Specialist  600.0   \n",
       "692           MBBS          29    33.0      Delhi    Dermatologists  500.0   \n",
       "911        Diploma          31    45.0     Mumbai         Homeopath  500.0   \n",
       "2585   MRCPCH (UK)          19     7.0  Hyderabad  General Medicine  100.0   \n",
       "3126          MBBS          38    48.0      Delhi    ENT Specialist  800.0   \n",
       "3604          MBBS          33    40.0    Chennai  General Medicine  700.0   \n",
       "5028          MBBS          30    47.0  Bangalore    ENT Specialist  650.0   \n",
       "5127          MBBS          19    33.0  Bangalore    ENT Specialist  650.0   \n",
       "\n",
       "     source  \n",
       "55    Train  \n",
       "692   Train  \n",
       "911   Train  \n",
       "2585  Train  \n",
       "3126  Train  \n",
       "3604  Train  \n",
       "5028  Train  \n",
       "5127  Train  "
      ]
     },
     "execution_count": 52,
     "metadata": {},
     "output_type": "execute_result"
    }
   ],
   "source": [
    "df[df['Rating']<50]"
   ]
  },
  {
   "cell_type": "code",
   "execution_count": 53,
   "metadata": {},
   "outputs": [],
   "source": [
    "def col(x):\n",
    "    if x<=50:\n",
    "        return 1\n",
    "    if x>50:\n",
    "        return 2"
   ]
  },
  {
   "cell_type": "code",
   "execution_count": 54,
   "metadata": {},
   "outputs": [],
   "source": [
    "df[\"Rating\"]=df[\"Rating\"].apply(col)"
   ]
  },
  {
   "cell_type": "markdown",
   "metadata": {},
   "source": [
    "categorise the Rating column above 50% and below because maximum rating is 100"
   ]
  },
  {
   "cell_type": "code",
   "execution_count": 55,
   "metadata": {},
   "outputs": [
    {
     "data": {
      "text/plain": [
       "2.0    0.998922\n",
       "1.0    0.001078\n",
       "Name: Rating, dtype: float64"
      ]
     },
     "execution_count": 55,
     "metadata": {},
     "output_type": "execute_result"
    }
   ],
   "source": [
    "df[\"Rating\"].value_counts(normalize=True)"
   ]
  },
  {
   "cell_type": "code",
   "execution_count": 56,
   "metadata": {},
   "outputs": [],
   "source": [
    "df[\"Rating\"].fillna(0,inplace=True)"
   ]
  },
  {
   "cell_type": "raw",
   "metadata": {},
   "source": [
    "Experience:"
   ]
  },
  {
   "cell_type": "code",
   "execution_count": 57,
   "metadata": {},
   "outputs": [
    {
     "data": {
      "text/plain": [
       "66"
      ]
     },
     "execution_count": 57,
     "metadata": {},
     "output_type": "execute_result"
    }
   ],
   "source": [
    "df[\"Experience\"].max()"
   ]
  },
  {
   "cell_type": "code",
   "execution_count": 58,
   "metadata": {},
   "outputs": [],
   "source": [
    "def col(x):\n",
    "    if x<=33:\n",
    "        return 1\n",
    "    if x>33:\n",
    "        return 2"
   ]
  },
  {
   "cell_type": "code",
   "execution_count": 59,
   "metadata": {},
   "outputs": [],
   "source": [
    "df[\"Experience\"]=df[\"Experience\"].apply(col)"
   ]
  },
  {
   "cell_type": "code",
   "execution_count": 60,
   "metadata": {},
   "outputs": [
    {
     "data": {
      "text/plain": [
       "1    0.886387\n",
       "2    0.113613\n",
       "Name: Experience, dtype: float64"
      ]
     },
     "execution_count": 60,
     "metadata": {},
     "output_type": "execute_result"
    }
   ],
   "source": [
    "df[\"Experience\"].value_counts(normalize=True)"
   ]
  },
  {
   "cell_type": "markdown",
   "metadata": {},
   "source": [
    "Experience column also divided 1 and 2 on the basis of maximum Experience"
   ]
  },
  {
   "cell_type": "raw",
   "metadata": {},
   "source": [
    "Place:"
   ]
  },
  {
   "cell_type": "code",
   "execution_count": 61,
   "metadata": {},
   "outputs": [],
   "source": [
    "place=df.groupby(\"Place\")[\"Fees\"].mean()"
   ]
  },
  {
   "cell_type": "code",
   "execution_count": 62,
   "metadata": {},
   "outputs": [],
   "source": [
    "df[\"Place\"]=df[\"Place\"].map(place)"
   ]
  },
  {
   "cell_type": "raw",
   "metadata": {},
   "source": [
    "Profile:"
   ]
  },
  {
   "cell_type": "code",
   "execution_count": 63,
   "metadata": {},
   "outputs": [],
   "source": [
    "profile=df.groupby(\"Profile\")[\"Fees\"].mean()"
   ]
  },
  {
   "cell_type": "code",
   "execution_count": 64,
   "metadata": {},
   "outputs": [],
   "source": [
    "df[\"Profile\"]=df[\"Profile\"].map(profile)"
   ]
  },
  {
   "cell_type": "raw",
   "metadata": {},
   "source": [
    "Qualification:"
   ]
  },
  {
   "cell_type": "code",
   "execution_count": 65,
   "metadata": {},
   "outputs": [],
   "source": [
    "qualification=df.groupby(\"Qualification\")[\"Fees\"].mean()"
   ]
  },
  {
   "cell_type": "code",
   "execution_count": 66,
   "metadata": {},
   "outputs": [],
   "source": [
    "df[\"Qualification\"]=df[\"Qualification\"].map(qualification)"
   ]
  },
  {
   "cell_type": "code",
   "execution_count": 84,
   "metadata": {},
   "outputs": [],
   "source": [
    "df[\"Qualification\"]=df[\"Qualification\"].fillna(0)"
   ]
  },
  {
   "cell_type": "code",
   "execution_count": 85,
   "metadata": {},
   "outputs": [
    {
     "data": {
      "text/html": [
       "<div>\n",
       "<style scoped>\n",
       "    .dataframe tbody tr th:only-of-type {\n",
       "        vertical-align: middle;\n",
       "    }\n",
       "\n",
       "    .dataframe tbody tr th {\n",
       "        vertical-align: top;\n",
       "    }\n",
       "\n",
       "    .dataframe thead th {\n",
       "        text-align: right;\n",
       "    }\n",
       "</style>\n",
       "<table border=\"1\" class=\"dataframe\">\n",
       "  <thead>\n",
       "    <tr style=\"text-align: right;\">\n",
       "      <th></th>\n",
       "      <th>Qualification</th>\n",
       "      <th>Experience</th>\n",
       "      <th>Rating</th>\n",
       "      <th>Place</th>\n",
       "      <th>Profile</th>\n",
       "      <th>Fees</th>\n",
       "      <th>source</th>\n",
       "    </tr>\n",
       "  </thead>\n",
       "  <tbody>\n",
       "    <tr>\n",
       "      <th>0</th>\n",
       "      <td>301.500000</td>\n",
       "      <td>1</td>\n",
       "      <td>2.0</td>\n",
       "      <td>188.431373</td>\n",
       "      <td>306.499407</td>\n",
       "      <td>100.0</td>\n",
       "      <td>Train</td>\n",
       "    </tr>\n",
       "    <tr>\n",
       "      <th>1</th>\n",
       "      <td>234.457103</td>\n",
       "      <td>1</td>\n",
       "      <td>2.0</td>\n",
       "      <td>324.364486</td>\n",
       "      <td>238.968193</td>\n",
       "      <td>350.0</td>\n",
       "      <td>Train</td>\n",
       "    </tr>\n",
       "    <tr>\n",
       "      <th>2</th>\n",
       "      <td>358.261846</td>\n",
       "      <td>1</td>\n",
       "      <td>2.0</td>\n",
       "      <td>324.364486</td>\n",
       "      <td>387.321429</td>\n",
       "      <td>300.0</td>\n",
       "      <td>Train</td>\n",
       "    </tr>\n",
       "    <tr>\n",
       "      <th>3</th>\n",
       "      <td>175.000000</td>\n",
       "      <td>1</td>\n",
       "      <td>2.0</td>\n",
       "      <td>324.364486</td>\n",
       "      <td>238.968193</td>\n",
       "      <td>250.0</td>\n",
       "      <td>Train</td>\n",
       "    </tr>\n",
       "    <tr>\n",
       "      <th>4</th>\n",
       "      <td>234.457103</td>\n",
       "      <td>1</td>\n",
       "      <td>2.0</td>\n",
       "      <td>283.602339</td>\n",
       "      <td>238.968193</td>\n",
       "      <td>250.0</td>\n",
       "      <td>Train</td>\n",
       "    </tr>\n",
       "  </tbody>\n",
       "</table>\n",
       "</div>"
      ],
      "text/plain": [
       "   Qualification  Experience  Rating       Place     Profile   Fees source\n",
       "0     301.500000           1     2.0  188.431373  306.499407  100.0  Train\n",
       "1     234.457103           1     2.0  324.364486  238.968193  350.0  Train\n",
       "2     358.261846           1     2.0  324.364486  387.321429  300.0  Train\n",
       "3     175.000000           1     2.0  324.364486  238.968193  250.0  Train\n",
       "4     234.457103           1     2.0  283.602339  238.968193  250.0  Train"
      ]
     },
     "execution_count": 85,
     "metadata": {},
     "output_type": "execute_result"
    }
   ],
   "source": [
    "df.head()"
   ]
  },
  {
   "cell_type": "code",
   "execution_count": 86,
   "metadata": {},
   "outputs": [],
   "source": [
    "df_train=df.loc[df[\"source\"]=='Train']\n",
    "df_test=df.loc[df[\"source\"]=='Test']"
   ]
  },
  {
   "cell_type": "code",
   "execution_count": 87,
   "metadata": {},
   "outputs": [],
   "source": [
    "df_test.reset_index(drop=True,inplace=True)"
   ]
  },
  {
   "cell_type": "code",
   "execution_count": 88,
   "metadata": {},
   "outputs": [],
   "source": [
    "df_train.drop(columns=[\"source\"],inplace=True)\n",
    "df_test.drop(columns=[\"source\"],inplace=True)"
   ]
  },
  {
   "cell_type": "raw",
   "metadata": {},
   "source": [
    "split:"
   ]
  },
  {
   "cell_type": "code",
   "execution_count": 89,
   "metadata": {},
   "outputs": [],
   "source": [
    "df_x=df_train.drop(columns=[\"Fees\"])\n",
    "y=df_train[[\"Fees\"]]"
   ]
  },
  {
   "cell_type": "raw",
   "metadata": {},
   "source": [
    "StandardScaler:"
   ]
  },
  {
   "cell_type": "code",
   "execution_count": 90,
   "metadata": {},
   "outputs": [],
   "source": [
    "sc=StandardScaler()\n",
    "x=sc.fit_transform(df_x)\n",
    "x=pd.DataFrame(x,columns=df_x.columns)"
   ]
  },
  {
   "cell_type": "code",
   "execution_count": 91,
   "metadata": {},
   "outputs": [],
   "source": [
    "max_r_score=0\n",
    "def maxr2(regr,df_x,y):\n",
    "    for r_state in range(42,62):\n",
    "        x_train, x_test, y_train, y_test = train_test_split(x, y,random_state = r_state,test_size=0.20)\n",
    "        regr = RandomForestRegressor()\n",
    "        regr.fit(x_train,y_train)\n",
    "        y_pred = regr.predict(x_test)\n",
    "        r2_scr=r2_score(y_test,y_pred)\n",
    "        print(\"r2_score corresponding to random state: \",r_state,\" is: \",r2_scr)\n",
    "        if r2_scr>max_r_score:\n",
    "            max_r_score=r2_scr\n",
    "            final_r_state=r_state\n",
    "\n",
    "    print(\"max r2 score corresponding to \",final_r_state,\" is \",max_r_score)\n",
    "    return final_r_state"
   ]
  },
  {
   "cell_type": "code",
   "execution_count": 92,
   "metadata": {},
   "outputs": [
    {
     "data": {
      "text/plain": [
       "{'max_depth': 75,\n",
       " 'max_leaf_nodes': 1200,\n",
       " 'min_samples_split': 0.05,\n",
       " 'n_estimators': 200}"
      ]
     },
     "execution_count": 92,
     "metadata": {},
     "output_type": "execute_result"
    }
   ],
   "source": [
    "rf=RandomForestRegressor()\n",
    "parameter = {'max_depth':[25,50,75],\n",
    "            \"min_samples_split\": [0.01,0.05,0.1],\n",
    "            \"max_leaf_nodes\": [300,900,1200],\n",
    "            \"n_estimators\":[200]}\n",
    "\n",
    "grid_search = GridSearchCV(rf,param_grid=parameter,cv=5,scoring='r2')\n",
    "grid_search.fit(df_x,y)\n",
    "grid_search.best_params_"
   ]
  },
  {
   "cell_type": "code",
   "execution_count": 93,
   "metadata": {},
   "outputs": [
    {
     "data": {
      "text/plain": [
       "Index(['Qualification', 'Experience', 'Rating', 'Place', 'Profile'], dtype='object')"
      ]
     },
     "execution_count": 93,
     "metadata": {},
     "output_type": "execute_result"
    }
   ],
   "source": [
    "df_x.columns"
   ]
  },
  {
   "cell_type": "code",
   "execution_count": 94,
   "metadata": {},
   "outputs": [
    {
     "name": "stdout",
     "output_type": "stream",
     "text": [
      "r2 score corresponding to 42 is 0.2035278337812686\n",
      "r2 score corresponding to 43 is 0.19587855157943923\n",
      "r2 score corresponding to 44 is 0.2149324117697845\n",
      "r2 score corresponding to 45 is 0.18109612094802519\n",
      "r2 score corresponding to 46 is 0.16502147722199612\n",
      "r2 score corresponding to 47 is 0.1674086082261984\n",
      "r2 score corresponding to 48 is 0.1922217944970307\n",
      "r2 score corresponding to 49 is 0.19796920813873098\n",
      "r2 score corresponding to 50 is 0.19875359481610555\n",
      "r2 score corresponding to 51 is 0.17813460731703978\n",
      "r2 score corresponding to 52 is 0.15252716732090732\n",
      "r2 score corresponding to 53 is 0.19428097182053117\n",
      "r2 score corresponding to 54 is 0.16624745855819467\n",
      "r2 score corresponding to 55 is 0.15979194269832975\n",
      "r2 score corresponding to 56 is 0.19246292689464495\n",
      "r2 score corresponding to 57 is 0.18648542858539152\n",
      "r2 score corresponding to 58 is 0.13615718984057312\n",
      "r2 score corresponding to 59 is 0.18798658562739812\n",
      "r2 score corresponding to 60 is 0.20302290616744345\n",
      "r2 score corresponding to 61 is 0.17341668943934707\n",
      "r2 score corresponding to 62 is 0.18002794428361146\n",
      "r2 score corresponding to 63 is 0.214205629438596\n",
      "r2 score corresponding to 64 is 0.16298071108694634\n",
      "r2 score corresponding to 65 is 0.1897781830455263\n",
      "r2 score corresponding to 66 is 0.201146693780348\n",
      "r2 score corresponding to 67 is 0.17615467563007747\n",
      "r2 score corresponding to 68 is 0.16443122837366753\n",
      "r2 score corresponding to 69 is 0.19537200510065444\n",
      "r2 score corresponding to 70 is 0.17175872938908787\n",
      "r2 score corresponding to 71 is 0.19249243080720357\n",
      "r2 score corresponding to 72 is 0.15753481823080606\n",
      "r2 score corresponding to 73 is 0.18503465646543504\n",
      "r2 score corresponding to 74 is 0.20035304068772863\n",
      "r2 score corresponding to 75 is 0.18261830341827434\n",
      "r2 score corresponding to 76 is 0.19435747594673503\n",
      "r2 score corresponding to 77 is 0.1716824299616443\n",
      "r2 score corresponding to 78 is 0.1758828158075143\n",
      "r2 score corresponding to 79 is 0.20381725342739987\n",
      "r2 score corresponding to 80 is 0.16666873257617876\n",
      "r2 score corresponding to 81 is 0.19655898441342756\n",
      "r2 score corresponding to 82 is 0.1575055537943305\n",
      "r2 score corresponding to 83 is 0.17318284260826144\n",
      "r2 score corresponding to 84 is 0.20511517494790854\n",
      "r2 score corresponding to 85 is 0.18201353293913858\n",
      "r2 score corresponding to 86 is 0.19744857522863668\n",
      "r2 score corresponding to 87 is 0.1657708807231758\n",
      "r2 score corresponding to 88 is 0.17892089570932967\n",
      "r2 score corresponding to 89 is 0.19795409941247255\n",
      "r2 score corresponding to 90 is 0.20605542485264527\n",
      "r2 score corresponding to 91 is 0.15430724993082812\n",
      "r2 score corresponding to 92 is 0.14022726795724882\n",
      "r2 score corresponding to 93 is 0.15645789568585977\n",
      "r2 score corresponding to 94 is 0.1986633225751624\n",
      "r2 score corresponding to 95 is 0.18364815246577904\n",
      "r2 score corresponding to 96 is 0.164300027301722\n",
      "r2 score corresponding to 97 is 0.15523801044477648\n",
      "r2 score corresponding to 98 is 0.19125162620209502\n",
      "r2 score corresponding to 99 is 0.18881333098818776\n",
      "max r2 score corresponding to 44  is 0.2149324117697845\n"
     ]
    }
   ],
   "source": [
    "\n",
    "max_r_score=0\n",
    "for r_state in range(42,100):\n",
    "    x_train, x_test, y_train, y_test= train_test_split(x, y,random_state = r_state,test_size=0.20)\n",
    "    rf_model=RandomForestRegressor(max_depth=50,max_leaf_nodes=900,min_samples_split=0.05,n_estimators=200)\n",
    "    rf_model.fit(x_train,y_train)                                  \n",
    "    y_pred=rf_model.predict(x_test)\n",
    "    r2_scr=r2_score(y_test,y_pred)\n",
    "    print(\"r2 score corresponding to\",r_state,\"is\",r2_scr)\n",
    "    if r2_scr > max_r_score:\n",
    "        max_r_score=r2_scr    \n",
    "        final_r_state=r_state\n",
    "print(\"max r2 score corresponding to\",final_r_state,\" is\",max_r_score)"
   ]
  },
  {
   "cell_type": "code",
   "execution_count": 95,
   "metadata": {},
   "outputs": [
    {
     "name": "stdout",
     "output_type": "stream",
     "text": [
      "r2 score is  0.21541149575276763\n",
      "RMSE: 171.96365488476184\n"
     ]
    }
   ],
   "source": [
    "x_train,x_test,y_train,y_test = train_test_split(df_x,y,random_state=44,test_size=.20)\n",
    "model=RandomForestRegressor(max_depth=50,max_leaf_nodes=900,min_samples_split=0.05,n_estimators=200)\n",
    "model.fit(x_train,y_train)\n",
    "y_pred=model.predict(x_test)\n",
    "print(\"r2 score is \",r2_score(y_test,y_pred))\n",
    "print(\"RMSE:\",np.sqrt(mean_squared_error(y_test,y_pred)))"
   ]
  },
  {
   "cell_type": "code",
   "execution_count": 96,
   "metadata": {},
   "outputs": [
    {
     "data": {
      "text/plain": [
       "{'learning_rate': 0.05, 'min_samples_split': 300, 'n_estimators': 250}"
      ]
     },
     "execution_count": 96,
     "metadata": {},
     "output_type": "execute_result"
    }
   ],
   "source": [
    "gb=GradientBoostingRegressor()\n",
    "parameter = {\"learning_rate\": [0.01,0.05,0.1],\n",
    "            \"min_samples_split\": [300,600,900],\n",
    "            \"n_estimators\":[250]}\n",
    "\n",
    "grid_search = GridSearchCV(gb,param_grid=parameter,cv=5,scoring='r2')\n",
    "grid_search.fit(df_x,y)\n",
    "grid_search.best_params_"
   ]
  },
  {
   "cell_type": "code",
   "execution_count": 97,
   "metadata": {},
   "outputs": [
    {
     "name": "stdout",
     "output_type": "stream",
     "text": [
      "r2 score is  0.23169074244814414\n",
      "RMSE: 170.17028638362416\n"
     ]
    }
   ],
   "source": [
    "model_new=GradientBoostingRegressor(learning_rate=0.05,min_samples_split=300,n_estimators=250)\n",
    "model_new.fit(x_train,y_train)\n",
    "y_pred=model_new.predict(x_test)\n",
    "print(\"r2 score is \",r2_score(y_test,y_pred))\n",
    "print(\"RMSE:\",np.sqrt(mean_squared_error(y_test,y_pred)))"
   ]
  },
  {
   "cell_type": "markdown",
   "metadata": {},
   "source": [
    "GradientBoostingRegressor is final model.Let's apply model on the test set"
   ]
  },
  {
   "cell_type": "code",
   "execution_count": 100,
   "metadata": {},
   "outputs": [],
   "source": [
    "df_test[\"Fees\"]=df_test[\"Fees\"].fillna(0)"
   ]
  },
  {
   "cell_type": "code",
   "execution_count": null,
   "metadata": {},
   "outputs": [],
   "source": [
    "fee_pred=model_new.predict(df_test)"
   ]
  },
  {
   "cell_type": "code",
   "execution_count": null,
   "metadata": {},
   "outputs": [],
   "source": [
    "fee_pred=pd.DataFrame(fee_pred,columns=[\"fees\"])"
   ]
  },
  {
   "cell_type": "markdown",
   "metadata": {},
   "source": [
    "make it as a dataframe"
   ]
  },
  {
   "cell_type": "markdown",
   "metadata": {},
   "source": [
    "# save"
   ]
  },
  {
   "cell_type": "code",
   "execution_count": 103,
   "metadata": {},
   "outputs": [
    {
     "data": {
      "text/plain": [
       "['boosting.pkl']"
      ]
     },
     "execution_count": 103,
     "metadata": {},
     "output_type": "execute_result"
    }
   ],
   "source": [
    "import joblib\n",
    "joblib.dump(model_new,\"boosting.pkl\")"
   ]
  },
  {
   "cell_type": "code",
   "execution_count": null,
   "metadata": {},
   "outputs": [],
   "source": []
  },
  {
   "cell_type": "code",
   "execution_count": null,
   "metadata": {},
   "outputs": [],
   "source": []
  },
  {
   "cell_type": "code",
   "execution_count": null,
   "metadata": {},
   "outputs": [],
   "source": []
  },
  {
   "cell_type": "code",
   "execution_count": null,
   "metadata": {},
   "outputs": [],
   "source": []
  }
 ],
 "metadata": {
  "kernelspec": {
   "display_name": "Python 3",
   "language": "python",
   "name": "python3"
  },
  "language_info": {
   "codemirror_mode": {
    "name": "ipython",
    "version": 3
   },
   "file_extension": ".py",
   "mimetype": "text/x-python",
   "name": "python",
   "nbconvert_exporter": "python",
   "pygments_lexer": "ipython3",
   "version": "3.8.5"
  }
 },
 "nbformat": 4,
 "nbformat_minor": 4
}
